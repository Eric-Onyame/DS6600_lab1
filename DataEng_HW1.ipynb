{
 "cells": [
  {
   "cell_type": "markdown",
   "id": "e244c536-5ad1-44d5-8145-d8073ece9fc6",
   "metadata": {},
   "source": [
    "Data Engineering Lab Assignment 1"
   ]
  },
  {
   "cell_type": "code",
   "execution_count": null,
   "id": "01e120fc-7613-4a2e-ac6b-e4d76a194ce4",
   "metadata": {},
   "outputs": [],
   "source": []
  },
  {
   "cell_type": "markdown",
   "id": "af8857fc-88c6-4837-a48e-b479abcf2a6e",
   "metadata": {},
   "source": [
    "Question 1: The Github link is below"
   ]
  },
  {
   "cell_type": "markdown",
   "id": "b32cbccf-0385-4ca8-ae25-886252320aae",
   "metadata": {},
   "source": [
    "https://github.com/Eric-Onyame/DS6600_lab1"
   ]
  },
  {
   "cell_type": "code",
   "execution_count": null,
   "id": "4be9a1a5-7357-4f8b-b2fa-8e0c68ed7139",
   "metadata": {},
   "outputs": [],
   "source": []
  },
  {
   "cell_type": "markdown",
   "id": "3812464f-813d-4f0f-87d0-5635392f30af",
   "metadata": {},
   "source": [
    "Question 2a: Everything that appears in the pipfile which was\n",
    "automatically generate is given below "
   ]
  },
  {
   "cell_type": "raw",
   "id": "4ff50783-7123-45de-8f7d-03d5237d2120",
   "metadata": {},
   "source": [
    "[[source]]\n",
    "url = \"https://pypi.org/simple\"\n",
    "verify_ssl = true\n",
    "name = \"pypi\"\n",
    "\n",
    "[packages]\n",
    "numpy = \"==1.25.2\"\n",
    "pandas = \"==2.0.3\"\n",
    "matplotlib = \"==3.7.2\"\n",
    "requests = \"==2.31.0\"\n",
    "jupyterlab = \"==4.0.5\"\n",
    "ipykernel = \"==6.25.1\"\n",
    "\n",
    "[dev-packages]\n",
    "\n",
    "[requires]\n",
    "python_version = \"3.11\"\n",
    "python_full_version = \"3.11.4\"\n"
   ]
  },
  {
   "cell_type": "code",
   "execution_count": null,
   "id": "ae320970-049a-4523-af96-dbff6b6a2a45",
   "metadata": {},
   "outputs": [],
   "source": []
  },
  {
   "cell_type": "markdown",
   "id": "55219ba3-26f5-4d53-9871-28cf36084b74",
   "metadata": {},
   "source": [
    "Question 2b: Confirming Python Version with new Kernel"
   ]
  },
  {
   "cell_type": "code",
   "execution_count": 2,
   "id": "f3d11d8a-9b05-4aee-850e-0cec3d992eae",
   "metadata": {},
   "outputs": [
    {
     "name": "stdout",
     "output_type": "stream",
     "text": [
      "Python 3.11.4\n"
     ]
    }
   ],
   "source": [
    "!python --version\n"
   ]
  },
  {
   "cell_type": "markdown",
   "id": "d09e84d0-5e41-410b-a976-7098abf9440c",
   "metadata": {},
   "source": []
  },
  {
   "cell_type": "markdown",
   "id": "dda160d6-6172-451d-9b29-9aa315705c30",
   "metadata": {},
   "source": [
    "Question 2c: Importing Packages to show it is installed"
   ]
  },
  {
   "cell_type": "code",
   "execution_count": 3,
   "id": "af3a11d9-d5df-4d96-8b87-74b04c0848c3",
   "metadata": {},
   "outputs": [
    {
     "name": "stdout",
     "output_type": "stream",
     "text": [
      "All modules imported successfully!\n"
     ]
    }
   ],
   "source": [
    "import numpy\n",
    "import pandas\n",
    "import matplotlib\n",
    "import requests\n",
    "\n",
    "print(\"All modules imported successfully!\")\n"
   ]
  },
  {
   "cell_type": "code",
   "execution_count": null,
   "id": "9e465737-9e0a-4249-93a9-9d232407cbfe",
   "metadata": {},
   "outputs": [],
   "source": []
  },
  {
   "cell_type": "markdown",
   "id": "b4d7a93e-1c6f-48ba-a357-710a0df580c4",
   "metadata": {},
   "source": [
    "Question 2d: Importing a Package which shows an error message"
   ]
  },
  {
   "cell_type": "code",
   "execution_count": 5,
   "id": "963c235c-35d2-4ece-a8c6-82cc28f69530",
   "metadata": {},
   "outputs": [
    {
     "ename": "ModuleNotFoundError",
     "evalue": "No module named 'sklearn'",
     "output_type": "error",
     "traceback": [
      "\u001b[1;31m---------------------------------------------------------------------------\u001b[0m",
      "\u001b[1;31mModuleNotFoundError\u001b[0m                       Traceback (most recent call last)",
      "Cell \u001b[1;32mIn[5], line 1\u001b[0m\n\u001b[1;32m----> 1\u001b[0m \u001b[38;5;28;01mimport\u001b[39;00m \u001b[38;5;21;01msklearn\u001b[39;00m\n",
      "\u001b[1;31mModuleNotFoundError\u001b[0m: No module named 'sklearn'"
     ]
    }
   ],
   "source": [
    "import sklearn"
   ]
  },
  {
   "cell_type": "code",
   "execution_count": 7,
   "id": "2cb42418-fcf0-4835-9a23-c4d793907d75",
   "metadata": {},
   "outputs": [
    {
     "name": "stdout",
     "output_type": "stream",
     "text": [
      "Error: No module named 'sklearn'\n"
     ]
    }
   ],
   "source": [
    "###Alternatively, we can use this code to check if the package is installed or not\n",
    "\n",
    "try:\n",
    "    import sklearn\n",
    "except ImportError as e:\n",
    "    print(\"Error:\", e)\n"
   ]
  },
  {
   "cell_type": "code",
   "execution_count": null,
   "id": "d9193f04-1907-47e2-b73b-be34a5119c53",
   "metadata": {},
   "outputs": [],
   "source": []
  },
  {
   "cell_type": "markdown",
   "id": "e5ab69b2-73a3-405e-8298-f510fa9c2414",
   "metadata": {},
   "source": [
    "QUESTION 3a:"
   ]
  },
  {
   "cell_type": "raw",
   "id": "0eebde53-b32e-4b30-b28a-2d5cca4bffec",
   "metadata": {},
   "source": [
    "Best Suited: Virtual Machines (VMs):\n",
    "\n",
    "In this particular circumstance, the most suitable option would be a virtual machine (VM) due to its ability to effectively offer a seamless blend of isolation, resource allocation, and manageability. Each Meals on Wheels chapter would benefit from its own VM, equipped to run both the web portal and the mobile app. This dedicated environment ensures robust isolation between the databases and applications of each chapter, as each VM operates on its own OS. Simultaneously, VMs allow for tailored resource allocation, so CPU, memory, and storage can be adjusted to fit the individual needs of each chapter. VMs offer the advantage of full machine capabilities, including easy backup, cloning, and independent security measures, simplifying tasks like maintenance and disaster recovery. Moreover, VMs often come with built-in management software and can be easily transferred between physical hosts, which aids in maintaining continuous uptime and operational flexibility."
   ]
  },
  {
   "cell_type": "markdown",
   "id": "f96a3701-c8e0-47a1-8bed-62b67c52373e",
   "metadata": {},
   "source": [
    "Not Best for this task includes:"
   ]
  },
  {
   "cell_type": "raw",
   "id": "863e3adc-a290-4f19-bfc5-a5258efb1902",
   "metadata": {},
   "source": [
    "Container:\n",
    "\n",
    "Although containers, such as Docker, demonstrate exceptional capabilities in isolating application processes, they do not possess the same level of operating system (OS)-level isolation that virtual machines (VMs) provide. While containers possess the advantages of being lightweight and having fast boot-up times, their design does not offer an optimal solution for securely storing and administering independent databases for each chapter of Meals on Wheels. Containers may potentially undermine the confidentiality and integrity of data across different sections, hence rendering them less appropriate for this particular use case."
   ]
  },
  {
   "cell_type": "raw",
   "id": "743dcd58-8723-41ed-acaa-b365ba10696c",
   "metadata": {},
   "source": [
    "Virtual environments:\n",
    "\n",
    "Virtual environments, such as Python's venv, are primarily designed to facilitate dependency management in software development rather than isolating operating systems or managing resources. In the given context, it is imperative for each Meals on Wheels chapter to possess its own distinct database and web services. A virtual environment does not provide the level of isolation or control over resource allocation. Hence, it is not the most suitable option for the management of numerous autonomous databases and web services.\n"
   ]
  },
  {
   "cell_type": "raw",
   "id": "c5b51108-3693-4574-9282-7bb18697ef8c",
   "metadata": {},
   "source": [
    "Global Environment of a Single Computer:\n",
    "\n",
    "\n",
    "The utilization of a single computer's global environment for several Meals on Wheels chapters is deemed wasteful and poses potential risks. One potential concern is the absence of assured data isolation across chapters, which presents a security vulnerability. Furthermore, the process of maintenance becomes a cumbersome task: any downtime or updates would affect all chapters simultaneously. Due to these limitations, the global environment of a single computer is not well-suited for this specific scenario.\n"
   ]
  },
  {
   "cell_type": "code",
   "execution_count": null,
   "id": "b57cc07d-f4a2-4b5e-b4a3-b33029d31a4f",
   "metadata": {},
   "outputs": [],
   "source": []
  },
  {
   "cell_type": "markdown",
   "id": "5f57df60-de01-4d28-9492-e6a4f55b0a70",
   "metadata": {},
   "source": [
    "Question 3b:"
   ]
  },
  {
   "cell_type": "raw",
   "id": "55c36cf1-57d2-4d19-b01f-4f913b83a9d7",
   "metadata": {},
   "source": [
    "Best suited: Global Environment of a single computer:\n",
    "\n",
    "In the context of this specific task, opting for the global environment of a single computer would be the most suitable decision. The Legal Aid Justice Center requires a one-time data cleaning and report generation, which does not necessitate the complexities of setting up a virtual machine, container, or virtual environment. Considering the nature of the operation, which involves processing a single Excel file and generating a solitary report, it can be efficiently executed using a suitably set personal computer. The computational environment of a computer has the capacity to execute data manipulation applications to perform data cleaning and generate the requisite report. Furthermore, it should be noted that the Legal Aid Justice Center solely requires the final report and does not necessitate the inclusion of the code or data. Therefore, the utilization of extra measures such as a virtual machine, container, or virtual environment for the purpose of isolation or resource management is unnecessary."
   ]
  },
  {
   "cell_type": "markdown",
   "id": "8244d8e8-d7cb-4779-839d-6782580c087b",
   "metadata": {},
   "source": [
    "Not Best for this task includes:"
   ]
  },
  {
   "cell_type": "raw",
   "id": "26d4f244-acdd-44c2-bfbb-eea65695b9b0",
   "metadata": {},
   "source": [
    "Vitual Machines:\n",
    "\n",
    "Setting up a VM would be unnecessary for a one-time data cleaning and report generation task. It would consume extra resources and add complexity without providing any meaningful benefit."
   ]
  },
  {
   "cell_type": "raw",
   "id": "0274487c-9634-4ace-837c-1ac70a91e4c2",
   "metadata": {},
   "source": [
    "Container: \n",
    "A container is overkill for this one-time task. Containers are useful for application development and deployment but don't offer significant advantages for a simple data cleaning and report generation task."
   ]
  },
  {
   "cell_type": "raw",
   "id": "cf90197d-5bbe-4d1a-bed9-70261ce07d71",
   "metadata": {},
   "source": [
    "Virtual Environment: \n",
    "This is typically used for managing dependencies in software development projects. For a simple data analysis task where you're just using existing software tools, this would be overkill."
   ]
  },
  {
   "cell_type": "code",
   "execution_count": null,
   "id": "f0f142d9-23a2-4064-af09-f04b3df6c289",
   "metadata": {},
   "outputs": [],
   "source": []
  },
  {
   "cell_type": "markdown",
   "id": "d165d772-4763-4d66-984b-58a2d135471b",
   "metadata": {},
   "source": [
    "Question 3c:"
   ]
  },
  {
   "cell_type": "raw",
   "id": "d7bb5f8b-6742-4113-a8d4-4265fcee7bf5",
   "metadata": {},
   "source": [
    "Best Suited: Containers\n",
    "\n",
    "In this scenario, Containers are considered as the best choice for deploying the predictive model for Save the Children. This is because:\n",
    "First, they are incredibly portable, which means the exact same container can run on any individual's machine regardless of the underlying system, as long as they have containerization software like Docker. Second, containers encapsulate all dependencies, ensuring that the open-source image-processing software packages that only work on Ubuntu Linux will be available and correctly configured wherever the container runs. Containers are lighter on resources compared to VMs, and they start up much faster, which is needed when responding to sudden displacement events. Furthermore, containers can be easily scaled, meaning that multiple instances of the predictive model can be run simultaneously if required."
   ]
  },
  {
   "cell_type": "markdown",
   "id": "45ccf954-8205-4247-9a34-595bd8ab02b1",
   "metadata": {},
   "source": [
    "Not Best for this task includes:"
   ]
  },
  {
   "cell_type": "raw",
   "id": "ea7a9e78-22b7-4793-85bd-c2ac0aaae146",
   "metadata": {},
   "source": [
    "Virtual machines (VMs):\n",
    "\n",
    "VMs possess the necessary attributes of isolation and dependency encapsulation. However, they are comparatively more resource-intensive and less lightweight than containers. Virtual machines (VMs) exhibit a prolonged startup time, which could be critical in emergency situations."
   ]
  },
  {
   "cell_type": "raw",
   "id": "cc731a6b-15a9-4aa7-a451-468e43c891b8",
   "metadata": {},
   "source": [
    "Virtual Environment:\n",
    "\n",
    "A virtual environment would not be sufficient here because it only isolates Python dependencies and doesn't handle system-level dependencies like the specific Ubuntu-only packages needed."
   ]
  },
  {
   "cell_type": "raw",
   "id": "5e26678b-901d-4401-b9eb-d9595eb6b088",
   "metadata": {},
   "source": [
    "Global Environment of a Single Computer: \n",
    "This would not work because the model needs to be deployed by several different individuals, and there's a requirement for specific Ubuntu-only packages."
   ]
  },
  {
   "cell_type": "code",
   "execution_count": null,
   "id": "665ec7f8-9d45-4510-8a8a-e47b3ef06fc8",
   "metadata": {},
   "outputs": [],
   "source": []
  },
  {
   "cell_type": "markdown",
   "id": "dbc0b2d2-b8cd-4a9a-b0ca-18479530a5c6",
   "metadata": {},
   "source": [
    "Question 3d:"
   ]
  },
  {
   "cell_type": "raw",
   "id": "d4968203-5940-40b4-b3d3-a7c0fa03f06a",
   "metadata": {},
   "source": [
    "Best Suited: Virtual Environment\n",
    "\n",
    "In the context of a substantial Python upgrade, where backward compatibility is a primary concern, opting for a virtual environment is the most optimal decision. Virtual environments provide the capability to isolate projects and define the desired Python version and libraries, hence enabling the execution of many Python versions on a single machine. By establishing a virtual environment for the ongoing Python 3 project, one can guarantee the preservation of the existing codebase's integrity, even in the event of a global installation of Python 4 on the host machine. This affords users the opportunity to delve into Python 4 and its novel Swedish commands without jeopardizing their ongoing Python 3 project, hence maintaining a distinct separation between the two versions. The aforementioned technique offers a well-rounded perspective, allowing individuals to effectively adjust to emerging advancements while also preserving the integrity of preexisting work."
   ]
  },
  {
   "cell_type": "markdown",
   "id": "bef2ee0a-fbc3-4796-826d-10587b74f508",
   "metadata": {},
   "source": [
    "Not Best for this task includes:"
   ]
  },
  {
   "cell_type": "raw",
   "id": "b4fdabe0-8e4e-48a9-acfc-3cd1228f3a6a",
   "metadata": {},
   "source": [
    "Virtual Machine (VM):\n",
    "\n",
    "Using a VM would be overkill for managing different versions of a programming language. The proposed approach is characterized by a high demand for resources and would result in the isolation of not only the Python environment but also the entire operating system. However, such extensive isolation is deemed unnecessary for the specific use case at hand."
   ]
  },
  {
   "cell_type": "raw",
   "id": "0e7ffbb4-d552-4cac-85f6-5853f10fbf28",
   "metadata": {},
   "source": [
    "Container: \n",
    "\n",
    "The utilization of a container would exceed the necessary level of isolation. Although it effectively handles dependencies it introduces an additional layer of complexity that is not needed for simply maintaining two versions of Python."
   ]
  },
  {
   "cell_type": "raw",
   "id": "4526119e-fc81-4421-9f41-3166504ae08d",
   "metadata": {},
   "source": [
    "Global Environment of a Single Computer:\n",
    "Relying solely on the global environment would be risky, as installing Python 4 globally could break the existing Python 3 projects. There's no built-in mechanism for isolating different versions, making it an inadequate solution for this situation."
   ]
  },
  {
   "cell_type": "code",
   "execution_count": null,
   "id": "78abbb69-cb13-4bf2-8277-2c3afe5efdba",
   "metadata": {},
   "outputs": [],
   "source": []
  },
  {
   "cell_type": "code",
   "execution_count": null,
   "id": "1404d3a1-4c11-4fd7-8977-1ce3643e25ae",
   "metadata": {},
   "outputs": [],
   "source": []
  },
  {
   "cell_type": "markdown",
   "id": "d314952b-75ed-4df1-9f2a-83d8e8d804f5",
   "metadata": {},
   "source": [
    "Question 4a: Contents from Dockerfile"
   ]
  },
  {
   "cell_type": "raw",
   "id": "507b8651-6a0b-45e9-94b5-3653bef4a094",
   "metadata": {},
   "source": [
    "# Use the latest version of Ubuntu\n",
    "FROM ubuntu:latest\n",
    "\n",
    "# Run package updates and install packages\n",
    "RUN apt-get update \\\n",
    "    && apt-get install -y python3\n",
    "\n",
    "# Start Python 3\n",
    "CMD [\"python3\"]\n"
   ]
  },
  {
   "cell_type": "code",
   "execution_count": null,
   "id": "28713605-5ed6-454e-bf0f-10fd6805d1b9",
   "metadata": {},
   "outputs": [],
   "source": []
  },
  {
   "cell_type": "markdown",
   "id": "365545ad-e115-486e-bff5-b1d30fc45042",
   "metadata": {},
   "source": [
    "Question 4b: Prove that Dockerfile is built successfully"
   ]
  },
  {
   "cell_type": "raw",
   "id": "fabbf19c-6646-4c16-8ddf-cff7fc346ffe",
   "metadata": {},
   "source": [
    " Building 0.8s (7/7) FINISHED                                                                         docker:default\n",
    " => [internal] load .dockerignore                                                                                  0.0s\n",
    " => => transferring context: 2B                                                                                    0.0s\n",
    " => [internal] load build definition from Dockerfile                                                               0.1s\n",
    " => => transferring dockerfile: 235B                                                                               0.0s\n",
    " => [internal] load metadata for docker.io/library/ubuntu:latest                                                   0.5s\n",
    " => [auth] library/ubuntu:pull token for registry-1.docker.io                                                      0.0s\n",
    " => [1/2] FROM docker.io/library/ubuntu:latest@sha256:aabed3296a3d45cede1dc866a24476c4d7e093aa806263c27ddaadbdce3  0.0s\n",
    " => CACHED [2/2] RUN apt-get update     && apt-get install -y python3                                              0.0s\n",
    " => exporting to image                                                                                             0.1s\n",
    " => => exporting layers                                                                                            0.0s\n",
    " => => writing image sha256:3f07f4e4e798deeb35ddfb7e8d337140dceb466d58b3596e8d5f111c9b85038f                       0.1s\n",
    " => => naming to docker.io/library/my_python_ubuntu_image                                                          0.0s\n",
    "\n",
    "What's Next?\n",
    "  View summary of image vulnerabilities and recommendations → docker scout quickview"
   ]
  },
  {
   "cell_type": "code",
   "execution_count": null,
   "id": "aed98edf-036e-4935-a50f-1a51ba8f1bcc",
   "metadata": {},
   "outputs": [],
   "source": []
  },
  {
   "cell_type": "markdown",
   "id": "4e167703-2bf7-45cd-b711-d69a5c363243",
   "metadata": {},
   "source": [
    "Question4c: Showing that Python3 works perfectly"
   ]
  },
  {
   "cell_type": "raw",
   "id": "49dee284-e8b3-4ca5-a278-e1e823803c6e",
   "metadata": {},
   "source": [
    "Python 3.10.12 (main, Jun 11 2023, 05:26:28) [GCC 11.4.0] on linux\n",
    "Type \"help\", \"copyright\", \"credits\" or \"license\" for more information.\n",
    ">>>"
   ]
  },
  {
   "cell_type": "code",
   "execution_count": null,
   "id": "bc5e0a0f-e6b0-40a3-8963-31674991562e",
   "metadata": {},
   "outputs": [],
   "source": []
  },
  {
   "cell_type": "code",
   "execution_count": null,
   "id": "57ca0ecd-afb2-4367-ab0d-b917883957ce",
   "metadata": {},
   "outputs": [],
   "source": []
  },
  {
   "cell_type": "markdown",
   "id": "d3024b06-ee63-4a3f-9d0e-21fb8931d45e",
   "metadata": {},
   "source": [
    "Question 5: Check Github for answers"
   ]
  },
  {
   "cell_type": "code",
   "execution_count": null,
   "id": "7f819252-b0f0-428f-837b-928216012e7a",
   "metadata": {},
   "outputs": [],
   "source": []
  },
  {
   "cell_type": "code",
   "execution_count": null,
   "id": "bf9c1a08-88e7-4445-8eeb-19d12776a27a",
   "metadata": {},
   "outputs": [],
   "source": []
  },
  {
   "cell_type": "markdown",
   "id": "1f2173d7-083a-4759-8a2a-30ad1721b44d",
   "metadata": {},
   "source": [
    "Question 6: Sacred text"
   ]
  },
  {
   "cell_type": "raw",
   "id": "ed039fe8-0c9e-4194-be01-3d6429a2f910",
   "metadata": {},
   "source": [
    " It is written in the Book of Venus:\n",
    "\n",
    "                                                                After the Creation, the cruel god Moloch rebelled\n",
    "                                                                against the authority of Marduk the Creator.\n",
    "                                                                Moloch stole from Marduk the most powerful of all\n",
    "                                                                the artifacts of the gods, the Amulet of Yendor,\n",
    "                                                                and he hid it in the dark cavities of Gehennom, the\n",
    "                                                                Under World, where he now lurks, and bides his time.\n",
    "\n",
    "                                                            Your goddess Venus seeks to possess the Amulet, and with it\n",
    "                                                            to gain deserved ascendance over the other gods.\n",
    "\n",
    "                                                            You, a newly trained Tenderfoot, have been heralded\n",
    "                                                            from birth as the instrument of Venus.  You are destined\n",
    "                                                            to recover the Amulet for your deity, or die in the\n",
    "                                                            attempt.  Your hour of destiny has come.  For the sake\n",
    "                                                            of us all:  Go bravely with Venus!\n",
    "                                                            --More--\n",
    "                                                                --------\n",
    "\n",
    "\n",
    "\n",
    "Eric_Onyame the Tenderfoot     St:15 Dx:12 Co:13 In:13 Wi:14 Ch:7 Neutral\n",
    "Dlvl:1 $:0 HP:15(15) Pw:2(2) AC:7 Xp:1\n"
   ]
  },
  {
   "cell_type": "code",
   "execution_count": null,
   "id": "51081a89-c328-42f7-8c47-9af0e7786f59",
   "metadata": {},
   "outputs": [],
   "source": []
  }
 ],
 "metadata": {
  "kernelspec": {
   "display_name": "DataEng1LW1",
   "language": "python",
   "name": "dataeng1lw1"
  },
  "language_info": {
   "codemirror_mode": {
    "name": "ipython",
    "version": 3
   },
   "file_extension": ".py",
   "mimetype": "text/x-python",
   "name": "python",
   "nbconvert_exporter": "python",
   "pygments_lexer": "ipython3",
   "version": "3.11.4"
  }
 },
 "nbformat": 4,
 "nbformat_minor": 5
}
