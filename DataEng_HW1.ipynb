{
 "cells": [
  {
   "cell_type": "markdown",
   "id": "e244c536-5ad1-44d5-8145-d8073ece9fc6",
   "metadata": {},
   "source": [
    "Data Engineering Lab Assignment 1"
   ]
  },
  {
   "cell_type": "code",
   "execution_count": null,
   "id": "01e120fc-7613-4a2e-ac6b-e4d76a194ce4",
   "metadata": {},
   "outputs": [],
   "source": []
  },
  {
   "cell_type": "markdown",
   "id": "af8857fc-88c6-4837-a48e-b479abcf2a6e",
   "metadata": {},
   "source": [
    "Question 1: The Github link is below"
   ]
  },
  {
   "cell_type": "markdown",
   "id": "b32cbccf-0385-4ca8-ae25-886252320aae",
   "metadata": {},
   "source": [
    "https://github.com/Eric-Onyame/DS6600_lab1"
   ]
  },
  {
   "cell_type": "code",
   "execution_count": null,
   "id": "4be9a1a5-7357-4f8b-b2fa-8e0c68ed7139",
   "metadata": {},
   "outputs": [],
   "source": []
  },
  {
   "cell_type": "markdown",
   "id": "3812464f-813d-4f0f-87d0-5635392f30af",
   "metadata": {},
   "source": [
    "Question 2a: Everything that appears in the pipfile which was\n",
    "automatically generate is given below "
   ]
  },
  {
   "cell_type": "raw",
   "id": "4ff50783-7123-45de-8f7d-03d5237d2120",
   "metadata": {},
   "source": [
    "[[source]]\n",
    "url = \"https://pypi.org/simple\"\n",
    "verify_ssl = true\n",
    "name = \"pypi\"\n",
    "\n",
    "[packages]\n",
    "numpy = \"==1.25.2\"\n",
    "pandas = \"==2.0.3\"\n",
    "matplotlib = \"==3.7.2\"\n",
    "requests = \"==2.31.0\"\n",
    "jupyterlab = \"==4.0.5\"\n",
    "ipykernel = \"==6.25.1\"\n",
    "\n",
    "[dev-packages]\n",
    "\n",
    "[requires]\n",
    "python_version = \"3.11\"\n",
    "python_full_version = \"3.11.4\"\n"
   ]
  },
  {
   "cell_type": "code",
   "execution_count": null,
   "id": "ae320970-049a-4523-af96-dbff6b6a2a45",
   "metadata": {},
   "outputs": [],
   "source": []
  },
  {
   "cell_type": "markdown",
   "id": "55219ba3-26f5-4d53-9871-28cf36084b74",
   "metadata": {},
   "source": [
    "Question 2b: Confirming Python Version with new Kernel"
   ]
  },
  {
   "cell_type": "code",
   "execution_count": 2,
   "id": "f3d11d8a-9b05-4aee-850e-0cec3d992eae",
   "metadata": {},
   "outputs": [
    {
     "name": "stdout",
     "output_type": "stream",
     "text": [
      "Python 3.11.4\n"
     ]
    }
   ],
   "source": [
    "!python --version\n"
   ]
  },
  {
   "cell_type": "markdown",
   "id": "d09e84d0-5e41-410b-a976-7098abf9440c",
   "metadata": {},
   "source": []
  },
  {
   "cell_type": "markdown",
   "id": "dda160d6-6172-451d-9b29-9aa315705c30",
   "metadata": {},
   "source": [
    "Question 2c: Importing Packages to show it is installed"
   ]
  },
  {
   "cell_type": "code",
   "execution_count": 3,
   "id": "af3a11d9-d5df-4d96-8b87-74b04c0848c3",
   "metadata": {},
   "outputs": [
    {
     "name": "stdout",
     "output_type": "stream",
     "text": [
      "All modules imported successfully!\n"
     ]
    }
   ],
   "source": [
    "import numpy\n",
    "import pandas\n",
    "import matplotlib\n",
    "import requests\n",
    "\n",
    "print(\"All modules imported successfully!\")\n"
   ]
  },
  {
   "cell_type": "code",
   "execution_count": null,
   "id": "9e465737-9e0a-4249-93a9-9d232407cbfe",
   "metadata": {},
   "outputs": [],
   "source": []
  },
  {
   "cell_type": "markdown",
   "id": "b4d7a93e-1c6f-48ba-a357-710a0df580c4",
   "metadata": {},
   "source": [
    "Question 2d: Importing a Package which shows an error message"
   ]
  },
  {
   "cell_type": "code",
   "execution_count": 5,
   "id": "963c235c-35d2-4ece-a8c6-82cc28f69530",
   "metadata": {},
   "outputs": [
    {
     "ename": "ModuleNotFoundError",
     "evalue": "No module named 'sklearn'",
     "output_type": "error",
     "traceback": [
      "\u001b[1;31m---------------------------------------------------------------------------\u001b[0m",
      "\u001b[1;31mModuleNotFoundError\u001b[0m                       Traceback (most recent call last)",
      "Cell \u001b[1;32mIn[5], line 1\u001b[0m\n\u001b[1;32m----> 1\u001b[0m \u001b[38;5;28;01mimport\u001b[39;00m \u001b[38;5;21;01msklearn\u001b[39;00m\n",
      "\u001b[1;31mModuleNotFoundError\u001b[0m: No module named 'sklearn'"
     ]
    }
   ],
   "source": [
    "import sklearn"
   ]
  },
  {
   "cell_type": "code",
   "execution_count": 7,
   "id": "2cb42418-fcf0-4835-9a23-c4d793907d75",
   "metadata": {},
   "outputs": [
    {
     "name": "stdout",
     "output_type": "stream",
     "text": [
      "Error: No module named 'sklearn'\n"
     ]
    }
   ],
   "source": [
    "###Alternatively, we can use this code to check if the package is installed or not\n",
    "\n",
    "try:\n",
    "    import sklearn\n",
    "except ImportError as e:\n",
    "    print(\"Error:\", e)\n"
   ]
  },
  {
   "cell_type": "code",
   "execution_count": null,
   "id": "d9193f04-1907-47e2-b73b-be34a5119c53",
   "metadata": {},
   "outputs": [],
   "source": []
  },
  {
   "cell_type": "markdown",
   "id": "e5ab69b2-73a3-405e-8298-f510fa9c2414",
   "metadata": {},
   "source": [
    "QUESTION 3:"
   ]
  },
  {
   "cell_type": "code",
   "execution_count": null,
   "id": "92c02969-a48b-4ee5-bb74-c19bd8af2b86",
   "metadata": {},
   "outputs": [],
   "source": []
  },
  {
   "cell_type": "code",
   "execution_count": null,
   "id": "57c18c23-0262-43fe-a9ab-f67905faf2d0",
   "metadata": {},
   "outputs": [],
   "source": []
  },
  {
   "cell_type": "markdown",
   "id": "d314952b-75ed-4df1-9f2a-83d8e8d804f5",
   "metadata": {},
   "source": [
    "Question 4a: Contents from Dockerfile"
   ]
  },
  {
   "cell_type": "raw",
   "id": "507b8651-6a0b-45e9-94b5-3653bef4a094",
   "metadata": {},
   "source": [
    "# Use the latest version of Ubuntu\n",
    "FROM ubuntu:latest\n",
    "\n",
    "# Run package updates and install packages\n",
    "RUN apt-get update \\\n",
    "    && apt-get install -y python3\n",
    "\n",
    "# Start Python 3\n",
    "CMD [\"python3\"]\n"
   ]
  },
  {
   "cell_type": "code",
   "execution_count": null,
   "id": "28713605-5ed6-454e-bf0f-10fd6805d1b9",
   "metadata": {},
   "outputs": [],
   "source": []
  },
  {
   "cell_type": "markdown",
   "id": "365545ad-e115-486e-bff5-b1d30fc45042",
   "metadata": {},
   "source": [
    "Question 4b: Prove that Dockerfile is built successfully"
   ]
  },
  {
   "cell_type": "raw",
   "id": "fabbf19c-6646-4c16-8ddf-cff7fc346ffe",
   "metadata": {},
   "source": [
    " Building 0.8s (7/7) FINISHED                                                                         docker:default\n",
    " => [internal] load .dockerignore                                                                                  0.0s\n",
    " => => transferring context: 2B                                                                                    0.0s\n",
    " => [internal] load build definition from Dockerfile                                                               0.1s\n",
    " => => transferring dockerfile: 235B                                                                               0.0s\n",
    " => [internal] load metadata for docker.io/library/ubuntu:latest                                                   0.5s\n",
    " => [auth] library/ubuntu:pull token for registry-1.docker.io                                                      0.0s\n",
    " => [1/2] FROM docker.io/library/ubuntu:latest@sha256:aabed3296a3d45cede1dc866a24476c4d7e093aa806263c27ddaadbdce3  0.0s\n",
    " => CACHED [2/2] RUN apt-get update     && apt-get install -y python3                                              0.0s\n",
    " => exporting to image                                                                                             0.1s\n",
    " => => exporting layers                                                                                            0.0s\n",
    " => => writing image sha256:3f07f4e4e798deeb35ddfb7e8d337140dceb466d58b3596e8d5f111c9b85038f                       0.1s\n",
    " => => naming to docker.io/library/my_python_ubuntu_image                                                          0.0s\n",
    "\n",
    "What's Next?\n",
    "  View summary of image vulnerabilities and recommendations → docker scout quickview"
   ]
  },
  {
   "cell_type": "code",
   "execution_count": null,
   "id": "aed98edf-036e-4935-a50f-1a51ba8f1bcc",
   "metadata": {},
   "outputs": [],
   "source": []
  },
  {
   "cell_type": "markdown",
   "id": "4e167703-2bf7-45cd-b711-d69a5c363243",
   "metadata": {},
   "source": [
    "Question4c: Showing that Python3 works perfectly"
   ]
  },
  {
   "cell_type": "raw",
   "id": "49dee284-e8b3-4ca5-a278-e1e823803c6e",
   "metadata": {},
   "source": [
    "Python 3.10.12 (main, Jun 11 2023, 05:26:28) [GCC 11.4.0] on linux\n",
    "Type \"help\", \"copyright\", \"credits\" or \"license\" for more information.\n",
    ">>>"
   ]
  },
  {
   "cell_type": "code",
   "execution_count": null,
   "id": "bc5e0a0f-e6b0-40a3-8963-31674991562e",
   "metadata": {},
   "outputs": [],
   "source": []
  },
  {
   "cell_type": "markdown",
   "id": "1f2173d7-083a-4759-8a2a-30ad1721b44d",
   "metadata": {},
   "source": [
    "Question 6: Sacred text"
   ]
  },
  {
   "cell_type": "raw",
   "id": "ed039fe8-0c9e-4194-be01-3d6429a2f910",
   "metadata": {},
   "source": [
    " It is written in the Book of Venus:\n",
    "\n",
    "                                                                After the Creation, the cruel god Moloch rebelled\n",
    "                                                                against the authority of Marduk the Creator.\n",
    "                                                                Moloch stole from Marduk the most powerful of all\n",
    "                                                                the artifacts of the gods, the Amulet of Yendor,\n",
    "                                                                and he hid it in the dark cavities of Gehennom, the\n",
    "                                                                Under World, where he now lurks, and bides his time.\n",
    "\n",
    "                                                            Your goddess Venus seeks to possess the Amulet, and with it\n",
    "                                                            to gain deserved ascendance over the other gods.\n",
    "\n",
    "                                                            You, a newly trained Tenderfoot, have been heralded\n",
    "                                                            from birth as the instrument of Venus.  You are destined\n",
    "                                                            to recover the Amulet for your deity, or die in the\n",
    "                                                            attempt.  Your hour of destiny has come.  For the sake\n",
    "                                                            of us all:  Go bravely with Venus!\n",
    "                                                            --More--\n",
    "                                                                --------\n",
    "\n",
    "\n",
    "\n",
    "Eric_Onyame the Tenderfoot     St:15 Dx:12 Co:13 In:13 Wi:14 Ch:7 Neutral\n",
    "Dlvl:1 $:0 HP:15(15) Pw:2(2) AC:7 Xp:1\n"
   ]
  },
  {
   "cell_type": "code",
   "execution_count": null,
   "id": "51081a89-c328-42f7-8c47-9af0e7786f59",
   "metadata": {},
   "outputs": [],
   "source": []
  }
 ],
 "metadata": {
  "kernelspec": {
   "display_name": "DataEng1LW1",
   "language": "python",
   "name": "dataeng1lw1"
  },
  "language_info": {
   "codemirror_mode": {
    "name": "ipython",
    "version": 3
   },
   "file_extension": ".py",
   "mimetype": "text/x-python",
   "name": "python",
   "nbconvert_exporter": "python",
   "pygments_lexer": "ipython3",
   "version": "3.11.4"
  }
 },
 "nbformat": 4,
 "nbformat_minor": 5
}
