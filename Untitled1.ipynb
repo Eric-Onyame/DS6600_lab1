{
 "cells": [
  {
   "cell_type": "code",
   "execution_count": 1,
   "id": "b345c741-7945-42a3-9336-714f7e3d5c02",
   "metadata": {},
   "outputs": [
    {
     "ename": "SyntaxError",
     "evalue": "invalid syntax (3675545230.py, line 1)",
     "output_type": "error",
     "traceback": [
      "\u001b[1;36m  Cell \u001b[1;32mIn[1], line 1\u001b[1;36m\u001b[0m\n\u001b[1;33m    python -m ipykernel install --user --name=DataEng1\u001b[0m\n\u001b[1;37m              ^\u001b[0m\n\u001b[1;31mSyntaxError\u001b[0m\u001b[1;31m:\u001b[0m invalid syntax\n"
     ]
    }
   ],
   "source": [
    "python -m ipykernel install --user --name=DataEng1\n"
   ]
  },
  {
   "cell_type": "code",
   "execution_count": null,
   "id": "d815ec5d-d0bd-4ab3-934d-13a33c8ce305",
   "metadata": {},
   "outputs": [],
   "source": []
  }
 ],
 "metadata": {
  "kernelspec": {
   "display_name": "your_custom_kernel_name",
   "language": "python",
   "name": "your_custom_kernel_name"
  },
  "language_info": {
   "codemirror_mode": {
    "name": "ipython",
    "version": 3
   },
   "file_extension": ".py",
   "mimetype": "text/x-python",
   "name": "python",
   "nbconvert_exporter": "python",
   "pygments_lexer": "ipython3",
   "version": "3.11.4"
  }
 },
 "nbformat": 4,
 "nbformat_minor": 5
}
